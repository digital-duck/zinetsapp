{
 "cells": [
  {
   "cell_type": "code",
   "execution_count": 1,
   "id": "2c246f9e-fd82-4063-8de8-25ba03ec43c1",
   "metadata": {},
   "outputs": [],
   "source": [
    "from zinets_vis import parse_markdown_to_tree_data"
   ]
  },
  {
   "cell_type": "code",
   "execution_count": 2,
   "id": "71f15458-1639-43d5-95ba-d495ab38014d",
   "metadata": {},
   "outputs": [
    {
     "data": {
      "text/plain": [
       "{'name': '', 'children': []}"
      ]
     },
     "execution_count": 2,
     "metadata": {},
     "output_type": "execute_result"
    }
   ],
   "source": [
    "result = parse_markdown_to_tree_data(\"\")\n",
    "result "
   ]
  },
  {
   "cell_type": "code",
   "execution_count": 3,
   "id": "78c0717b-5e0a-4d9f-a2ad-4b6cedfe4598",
   "metadata": {},
   "outputs": [
    {
     "name": "stdout",
     "output_type": "stream",
     "text": [
      "日\n",
      "\t- 白（丿 + 日）\n",
      "\t\t- 伯（亻 + 白）\n",
      "\t- 晶(日 + 日 + 日)\n"
     ]
    },
    {
     "data": {
      "text/plain": [
       "{'name': '日',\n",
       " 'children': [{'name': '白',\n",
       "   'symbolSize': 25,\n",
       "   'children': [{'name': '伯',\n",
       "     'symbolSize': 25,\n",
       "     'children': [],\n",
       "     'decomposition': '亻 + 白'}],\n",
       "   'decomposition': '丿 + 日'},\n",
       "  {'name': '晶',\n",
       "   'symbolSize': 25,\n",
       "   'children': [],\n",
       "   'decomposition': '日 + 日 + 日'}]}"
      ]
     },
     "execution_count": 3,
     "metadata": {},
     "output_type": "execute_result"
    }
   ],
   "source": [
    "markdown = \"日\\n\\t- 白（丿 + 日）\\n\\t\\t- 伯（亻 + 白）\\n\\t- 晶(日 + 日 + 日)\"\n",
    "print(markdown)\n",
    "result = parse_markdown_to_tree_data(markdown)\n",
    "result"
   ]
  },
  {
   "cell_type": "code",
   "execution_count": 4,
   "id": "85cc4710-e043-473e-a912-77046548941c",
   "metadata": {},
   "outputs": [
    {
     "name": "stdout",
     "output_type": "stream",
     "text": [
      "水\n",
      "  - 冰\n",
      "    - 凉\n",
      "  - 海\n",
      "{'name': '水', 'children': [{'name': '冰', 'symbolSize': 25, 'children': [{'name': '凉', 'symbolSize': 25, 'children': []}]}, {'name': '海', 'symbolSize': 25, 'children': []}]}\n"
     ]
    }
   ],
   "source": [
    "\"\"\"Test with 2-space indentation.\"\"\"\n",
    "markdown = \"水\\n  - 冰\\n    - 凉\\n  - 海\"\n",
    "result = parse_markdown_to_tree_data(markdown)\n",
    "print(markdown)\n",
    "print(result)"
   ]
  },
  {
   "cell_type": "code",
   "execution_count": 5,
   "id": "9a44c70a-2dd7-42dd-a5e9-b6cc9e2569d6",
   "metadata": {},
   "outputs": [
    {
     "name": "stdout",
     "output_type": "stream",
     "text": [
      "藻\n",
      "    - 艹\n",
      "    - 澡\n",
      "        - 氵\n",
      "        - 喿\n",
      "            - 品\n",
      "                    - 口\n",
      "                    - 口\n",
      "                    - 口\n",
      "            - 木\n",
      "{'name': '藻', 'children': [{'name': '艹', 'symbolSize': 25, 'children': []}, {'name': '澡', 'symbolSize': 25, 'children': [{'name': '氵', 'symbolSize': 25, 'children': []}, {'name': '喿', 'symbolSize': 25, 'children': [{'name': '品', 'symbolSize': 25, 'children': [{'name': '口', 'symbolSize': 25, 'children': []}, {'name': '口', 'symbolSize': 25, 'children': []}, {'name': '口', 'symbolSize': 25, 'children': []}]}, {'name': '木', 'symbolSize': 25, 'children': []}]}]}]}\n"
     ]
    }
   ],
   "source": [
    "\"\"\"Test with 4-space indentation.\"\"\"\n",
    "markdown = \"藻\\n    - 艹\\n    - 澡\\n        - 氵\\n        - 喿\\n            - 品\\n                    - 口\\n                    - 口\\n                    - 口\\n            - 木\"\n",
    "result = parse_markdown_to_tree_data(markdown)\n",
    "print(markdown)\n",
    "print(result)"
   ]
  },
  {
   "cell_type": "code",
   "execution_count": 6,
   "id": "a66a1f02-7ee9-4315-a96b-8f81cd42382f",
   "metadata": {},
   "outputs": [
    {
     "name": "stdout",
     "output_type": "stream",
     "text": [
      "心\n",
      "\t- 想\n",
      "    - 愿\n",
      "\t    - 惟\n",
      "\t- 情\n",
      "{'name': '心', 'children': [{'name': '想', 'symbolSize': 25, 'children': []}, {'name': '愿', 'symbolSize': 25, 'children': []}, {'name': '惟', 'symbolSize': 25, 'children': []}, {'name': '情', 'symbolSize': 25, 'children': []}]}\n"
     ]
    }
   ],
   "source": [
    "\"\"\"Test with mixed indentation (spaces and tabs).\"\"\"\n",
    "markdown = \"心\\n\\t- 想\\n    - 愿\\n\\t    - 惟\\n\\t- 情\"\n",
    "result = parse_markdown_to_tree_data(markdown)\n",
    "print(markdown)\n",
    "print(result)"
   ]
  },
  {
   "cell_type": "code",
   "execution_count": 7,
   "id": "2c501429-da93-47f0-978f-380fa0677694",
   "metadata": {},
   "outputs": [
    {
     "name": "stdout",
     "output_type": "stream",
     "text": [
      "木\n",
      "   - 森\n",
      "      - 林\n",
      "         - 桐\n",
      "  - 板\n",
      "{'name': '木', 'children': [{'name': '森', 'symbolSize': 25, 'children': [{'name': '林', 'symbolSize': 25, 'children': [{'name': '桐', 'symbolSize': 25, 'children': []}]}]}, {'name': '板', 'symbolSize': 25, 'children': []}]}\n"
     ]
    }
   ],
   "source": [
    "\"\"\"Test with irregular indentation patterns.\"\"\"\n",
    "markdown = \"木\\n   - 森\\n      - 林\\n         - 桐\\n  - 板\"\n",
    "result = parse_markdown_to_tree_data(markdown)\n",
    "print(markdown)\n",
    "print(result)"
   ]
  },
  {
   "cell_type": "code",
   "execution_count": 8,
   "id": "cca2b364-a0e4-4a16-a64b-c1a7a1558852",
   "metadata": {},
   "outputs": [
    {
     "name": "stdout",
     "output_type": "stream",
     "text": [
      "心\n",
      "  - 想（心 + 相）\n",
      "  - 情（心 + 青）\n",
      "{'name': '心', 'children': [{'name': '想', 'symbolSize': 25, 'children': [], 'decomposition': '心 + 相'}, {'name': '情', 'symbolSize': 25, 'children': [], 'decomposition': '心 + 青'}]}\n"
     ]
    }
   ],
   "source": [
    "\"\"\"Test with Chinese parentheses for decomposition.\"\"\"\n",
    "markdown = \"心\\n  - 想（心 + 相）\\n  - 情（心 + 青）\"\n",
    "result = parse_markdown_to_tree_data(markdown)\n",
    "print(markdown)\n",
    "print(result)"
   ]
  },
  {
   "cell_type": "code",
   "execution_count": 9,
   "id": "aa1ba178-ccc7-45e4-84dc-dbe521025a9f",
   "metadata": {},
   "outputs": [
    {
     "name": "stdout",
     "output_type": "stream",
     "text": [
      "日\n",
      "  - 白(radical + sun)\n",
      "  - 晶(triple sun)\n",
      "{'name': '日', 'children': [{'name': '白', 'symbolSize': 25, 'children': [], 'decomposition': 'radical + sun'}, {'name': '晶', 'symbolSize': 25, 'children': [], 'decomposition': 'triple sun'}]}\n"
     ]
    }
   ],
   "source": [
    "\"\"\"Test with English parentheses for decomposition.\"\"\"\n",
    "markdown = \"日\\n  - 白(radical + sun)\\n  - 晶(triple sun)\"\n",
    "result = parse_markdown_to_tree_data(markdown)\n",
    "print(markdown)\n",
    "print(result)"
   ]
  },
  {
   "cell_type": "code",
   "execution_count": 10,
   "id": "c486b569-5a49-44aa-b9ef-0a0b76c55fcd",
   "metadata": {},
   "outputs": [
    {
     "name": "stdout",
     "output_type": "stream",
     "text": [
      "水\n",
      "  - 冰\n",
      "    This is a note about ice\n",
      "    - 凉\n",
      "  - 海\n",
      "{'name': '水', 'children': [{'name': 'This is a note about ice', 'symbolSize': 25, 'children': [{'name': '海', 'symbolSize': 25, 'children': []}]}]}\n"
     ]
    }
   ],
   "source": [
    "\"\"\"Test handling of lines that don't start with dash.\"\"\"\n",
    "markdown = \"水\\n  - 冰\\n    This is a note about ice\\n    - 凉\\n  - 海\"\n",
    "result = parse_markdown_to_tree_data(markdown)\n",
    "print(markdown)\n",
    "print(result)"
   ]
  },
  {
   "cell_type": "code",
   "execution_count": 11,
   "id": "1cd779fb-aadc-4dfe-8773-8b58f15ca542",
   "metadata": {},
   "outputs": [
    {
     "name": "stdout",
     "output_type": "stream",
     "text": [
      "水\n",
      "  - 冰\n",
      "      - 凉\n",
      "    - 冻\n",
      "  - 海\n",
      "{'name': '水', 'children': [{'name': '冰', 'symbolSize': 25, 'children': [{'name': '凉', 'symbolSize': 25, 'children': []}, {'name': '冻', 'symbolSize': 25, 'children': []}]}, {'name': '海', 'symbolSize': 25, 'children': []}]}\n"
     ]
    }
   ],
   "source": [
    "\"\"\"Test with inconsistent indentation levels.\"\"\"\n",
    "markdown = \"水\\n  - 冰\\n      - 凉\\n    - 冻\\n  - 海\"\n",
    "result = parse_markdown_to_tree_data(markdown)\n",
    "print(markdown)\n",
    "print(result)"
   ]
  },
  {
   "cell_type": "code",
   "execution_count": 12,
   "id": "ab6faee9-3c8f-487d-a901-d1119f74b188",
   "metadata": {},
   "outputs": [
    {
     "name": "stdout",
     "output_type": "stream",
     "text": [
      "水 # water \n",
      "  - 冰\n",
      "    This is a note about ice\n",
      "    - 凉\n",
      "  - 海\n",
      " # ocean where all water leads to\n",
      "{'name': '水', 'children': [{'name': '凉', 'symbolSize': 25, 'children': [{'name': '', 'symbolSize': 25, 'children': []}]}]}\n"
     ]
    }
   ],
   "source": [
    "\"\"\"Test handling of lines that don't start with dash. and comment\"\"\"\n",
    "markdown = \"水 # water \\n  - 冰\\n    This is a note about ice\\n    - 凉\\n  - 海\\n # ocean where all water leads to\"\n",
    "result = parse_markdown_to_tree_data(markdown)\n",
    "print(markdown)\n",
    "print(result)"
   ]
  },
  {
   "cell_type": "code",
   "execution_count": 13,
   "id": "7fd89401-fdc3-4a62-9a79-981297a85172",
   "metadata": {},
   "outputs": [],
   "source": [
    "markdown = \"\"\"藻\n",
    "        - 艹\n",
    "        - 澡\n",
    "            - 氵\n",
    "            - 喿\n",
    "                - 品\n",
    "                        - 口 \n",
    "                        - 口 \n",
    "                        - 口 \n",
    "                - 木\"\"\""
   ]
  },
  {
   "cell_type": "code",
   "execution_count": 14,
   "id": "c3b72d04-8e04-4cad-875d-038717bdec7c",
   "metadata": {},
   "outputs": [
    {
     "name": "stdout",
     "output_type": "stream",
     "text": [
      "藻\n",
      "        - 艹\n",
      "        - 澡\n",
      "            - 氵\n",
      "            - 喿\n",
      "                - 品\n",
      "                        - 口 \n",
      "                        - 口 \n",
      "                        - 口 \n",
      "                - 木\n",
      "{'name': '藻', 'children': [{'name': '艹', 'symbolSize': 25, 'children': []}, {'name': '澡', 'symbolSize': 25, 'children': [{'name': '氵', 'symbolSize': 25, 'children': []}, {'name': '喿', 'symbolSize': 25, 'children': [{'name': '品', 'symbolSize': 25, 'children': [{'name': '口', 'symbolSize': 25, 'children': []}, {'name': '口', 'symbolSize': 25, 'children': []}, {'name': '口', 'symbolSize': 25, 'children': []}]}, {'name': '木', 'symbolSize': 25, 'children': []}]}]}]}\n"
     ]
    }
   ],
   "source": [
    "result = parse_markdown_to_tree_data(markdown)\n",
    "print(markdown)\n",
    "print(result)"
   ]
  },
  {
   "cell_type": "code",
   "execution_count": null,
   "id": "f07a29d1-74f5-4c3e-ac22-36f7c27f9843",
   "metadata": {},
   "outputs": [],
   "source": []
  }
 ],
 "metadata": {
  "kernelspec": {
   "display_name": "Python 3 (ipykernel)",
   "language": "python",
   "name": "python3"
  },
  "language_info": {
   "codemirror_mode": {
    "name": "ipython",
    "version": 3
   },
   "file_extension": ".py",
   "mimetype": "text/x-python",
   "name": "python",
   "nbconvert_exporter": "python",
   "pygments_lexer": "ipython3",
   "version": "3.12.5"
  }
 },
 "nbformat": 4,
 "nbformat_minor": 5
}
