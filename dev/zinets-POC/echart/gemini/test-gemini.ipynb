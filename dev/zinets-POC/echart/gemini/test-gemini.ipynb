{
 "cells": [
  {
   "cell_type": "code",
   "execution_count": 1,
   "id": "e19e73df-e75d-4035-9983-8e5d70db1dde",
   "metadata": {},
   "outputs": [],
   "source": [
    "from chinese_network_generator_with_gemini import *"
   ]
  },
  {
   "cell_type": "raw",
   "id": "f74f78de-5424-4707-8d03-1a12824ec461",
   "metadata": {
    "scrolled": true
   },
   "source": [
    "!pip install google-generativeai"
   ]
  },
  {
   "cell_type": "raw",
   "id": "402f2480-08a1-45e4-9f88-fd436a37ef7c",
   "metadata": {},
   "source": [
    "API_KEY_NAME = 'GEMINI_API_KEY'  # 'GOOGLE_API_KEY'\n",
    "api_key = os.environ.get(API_KEY_NAME) # os.environ.get('GEMINI_API_KEY')"
   ]
  },
  {
   "cell_type": "code",
   "execution_count": 2,
   "id": "c483fded-a08a-4a37-9f50-db1e423c3d9e",
   "metadata": {},
   "outputs": [],
   "source": [
    "characters = [\"音\", \n",
    "              # \"立\", \"日\"\n",
    "]"
   ]
  },
  {
   "cell_type": "code",
   "execution_count": 3,
   "id": "ec6390f7-7dc1-4898-b6c5-010d9da4dcc6",
   "metadata": {},
   "outputs": [
    {
     "name": "stdout",
     "output_type": "stream",
     "text": [
      "Using Gemini model: gemini-2.0-flash\n",
      "Gemini API response saved to gemini_response.txt\n",
      "Cleaned Gemini response saved to gemini_response_cleaned.txt\n"
     ]
    }
   ],
   "source": [
    "x = get_character_data_from_gemini(characters)"
   ]
  },
  {
   "cell_type": "code",
   "execution_count": 4,
   "id": "45eaa63c-1990-42c2-a3cf-9e8484441b1f",
   "metadata": {},
   "outputs": [
    {
     "data": {
      "text/plain": [
       "{'音': {'pinyin': 'yīn',\n",
       "  'meaning': 'sound, noise, news, voice',\n",
       "  'composition': 'Character consists of 立 (lì - stand) on top and 日 (rì - sun) below. It represents the idea of sound standing out and being clear like the sun.',\n",
       "  'phrases': '音乐 (yīnyuè) - music<br>声音 (shēngyīn) - voice, sound<br>音响 (yīnxiǎng) - audio equipment, sound system<br>口音 (kǒuyīn) - accent<br>回音 (huíyīn) - echo'}}"
      ]
     },
     "execution_count": 4,
     "metadata": {},
     "output_type": "execute_result"
    }
   ],
   "source": [
    "x"
   ]
  },
  {
   "cell_type": "code",
   "execution_count": null,
   "id": "7437d3a9-af3a-4bc5-8faf-e49fd31ab53a",
   "metadata": {},
   "outputs": [],
   "source": [
    "cleaned_text = \"\"\"\n",
    "{\n",
    "  \"音\": {\n",
    "    \"pinyin\": \"yīn\",\n",
    "    \"meaning\": \"sound, noise, news, voice\",\n",
    "    \"composition\": \"Character combines 立 (lì, stand) and 日 (rì, sun). The sun standing indicates the beginning of a sound or note.\",\n",
    "    \"phrases\": \"音乐 (yīnyuè) - music<br>声音 (shēngyīn) - voice, sound<br>音响 (yīnxiǎng) - stereo, audio equipment<br>口音 (kǒuyīn) - accent<br>回音 (huíyīn) - echo\"\n",
    "  }\n",
    "}\n",
    "\"\"\""
   ]
  },
  {
   "cell_type": "code",
   "execution_count": 19,
   "id": "1e4f7387-4a28-4d29-8eb2-e4f4df113ec6",
   "metadata": {},
   "outputs": [
    {
     "data": {
      "text/plain": [
       "'白（丿 + 日'"
      ]
     },
     "execution_count": 19,
     "metadata": {},
     "output_type": "execute_result"
    }
   ],
   "source": [
    "txt = \"\t  - 白（丿 + 日）) \"\n",
    "\n",
    "txt.strip('）)- \\t')\n",
    "# '白（丿 + 日'"
   ]
  },
  {
   "cell_type": "code",
   "execution_count": null,
   "id": "6ddc6568-734b-4c2d-ba8c-b3f297557d38",
   "metadata": {},
   "outputs": [],
   "source": []
  }
 ],
 "metadata": {
  "kernelspec": {
   "display_name": "Python 3 (ipykernel)",
   "language": "python",
   "name": "python3"
  },
  "language_info": {
   "codemirror_mode": {
    "name": "ipython",
    "version": 3
   },
   "file_extension": ".py",
   "mimetype": "text/x-python",
   "name": "python",
   "nbconvert_exporter": "python",
   "pygments_lexer": "ipython3",
   "version": "3.12.5"
  }
 },
 "nbformat": 4,
 "nbformat_minor": 5
}
